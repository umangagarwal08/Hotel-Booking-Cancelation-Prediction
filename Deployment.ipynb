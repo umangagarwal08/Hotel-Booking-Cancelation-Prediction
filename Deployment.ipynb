{
 "cells": [
  {
   "cell_type": "code",
   "execution_count": 12,
   "metadata": {},
   "outputs": [],
   "source": [
    "import gradio as gr\n",
    "import pickle\n",
    "\n",
    "import warnings \n",
    "warnings.filterwarnings('ignore')"
   ]
  },
  {
   "cell_type": "code",
   "execution_count": 13,
   "metadata": {},
   "outputs": [],
   "source": [
    "with open(\"final_model_xgb.pkl\",'rb') as file:\n",
    "    model=pickle.load(file)"
   ]
  },
  {
   "cell_type": "code",
   "execution_count": 14,
   "metadata": {},
   "outputs": [
    {
     "data": {
      "text/plain": [
       "array(['lead_time', 'market_segment_type', 'no_of_special_requests',\n",
       "       'avg_price_per_room', 'no_of_adults', 'no_of_weekend_nights',\n",
       "       'required_car_parking_space', 'no_of_week_nights', 'arrival_day',\n",
       "       'arrival_month', 'arrival_weekday'], dtype=object)"
      ]
     },
     "execution_count": 14,
     "metadata": {},
     "output_type": "execute_result"
    }
   ],
   "source": [
    "model.feature_names_in_"
   ]
  },
  {
   "cell_type": "code",
   "execution_count": 15,
   "metadata": {},
   "outputs": [],
   "source": [
    "def prediction(lead_time, market_segment_type, no_of_special_requests,\n",
    "               avg_price_per_room,no_of_adults,no_of_weekend_nights,\n",
    "               required_car_parking_space,no_of_week_nights,arrival_day,\n",
    "                arrival_month,arrival_weekday):\n",
    "    input_data=[[lead_time, market_segment_type, no_of_special_requests,\n",
    "               avg_price_per_room,no_of_adults,no_of_weekend_nights,\n",
    "               required_car_parking_space,no_of_week_nights,arrival_day,\n",
    "                arrival_month,arrival_weekday]]\n",
    "    pred=model.predict_proba(input_data)[:,1][0]\n",
    "\n",
    "    if pred>0.5:\n",
    "        return f\"This booking is more likely to get canceled: Chances={round(pred,2)}\"\n",
    "    else:\n",
    "        return f\"This is booking is less likely to get canceled: Chances={round(pred,2)}\"\n"
   ]
  },
  {
   "cell_type": "code",
   "execution_count": 16,
   "metadata": {},
   "outputs": [
    {
     "data": {
      "text/plain": [
       "'This is booking is less likely to get canceled: Chances=0.22'"
      ]
     },
     "execution_count": 16,
     "metadata": {},
     "output_type": "execute_result"
    }
   ],
   "source": [
    "prediction(10,1,1,900,2,2,0,1,4,5,2)"
   ]
  },
  {
   "cell_type": "code",
   "execution_count": 17,
   "metadata": {},
   "outputs": [],
   "source": [
    "iface = gr.Interface(fn=prediction,inputs=[gr.Number(label='How Many prior days booking was made'),\n",
    "                                           gr.Dropdown(choices=[('Online',1),('Offline',0)],label='How the booking was made'),\n",
    "                                           gr.Dropdown(choices=[0,1,2,3,4,5],label='How many special requests made'),\n",
    "                                           gr.Number(label='What is the price per room offered'),\n",
    "                                           gr.Dropdown(choices=[1,2,3,4,5,6],label='How many Adults per room'),\n",
    "                                           gr.Number(label='Number of weekend nights'),\n",
    "                                           gr.Dropdown(choices=[('Yes',1),(\"No\",0)],label='Does Booking include parking facility'),\n",
    "                                           gr.Number(label=\"How many week nights in the stay\"),\n",
    "                                           gr.Slider(minimum=1,maximum=31,step=1,label='What is the day of arrival'),\n",
    "                                           gr.Slider(minimum=1,maximum=12,step=1,label=\"What is the month or arrival\"),\n",
    "                                           gr.Dropdown(choices=[('Mon',0),('Tue',1),('Wed',2),('Thus',3),(\"Fri\",4),('Sat',5),('Sun',6)],\n",
    "                                                       label=\"What is the weekday of arrival\")],\n",
    "                                    outputs=gr.Textbox(label='Prediction'),\n",
    "                                    title='INN Group of Hotels',\n",
    "                                    description='This application will forecast the cancellation of booking',\n",
    "                                    allow_flagging='never')"
   ]
  },
  {
   "cell_type": "code",
   "execution_count": 18,
   "metadata": {},
   "outputs": [
    {
     "name": "stdout",
     "output_type": "stream",
     "text": [
      "Running on local URL:  http://127.0.0.1:7861\n",
      "\n",
      "To create a public link, set `share=True` in `launch()`.\n"
     ]
    },
    {
     "data": {
      "text/html": [
       "<div><iframe src=\"http://127.0.0.1:7861/\" width=\"100%\" height=\"500\" allow=\"autoplay; camera; microphone; clipboard-read; clipboard-write;\" frameborder=\"0\" allowfullscreen></iframe></div>"
      ],
      "text/plain": [
       "<IPython.core.display.HTML object>"
      ]
     },
     "metadata": {},
     "output_type": "display_data"
    },
    {
     "data": {
      "text/plain": []
     },
     "execution_count": 18,
     "metadata": {},
     "output_type": "execute_result"
    }
   ],
   "source": [
    "iface.launch()\n",
    "\n"
   ]
  },
  {
   "cell_type": "code",
   "execution_count": null,
   "metadata": {},
   "outputs": [],
   "source": []
  }
 ],
 "metadata": {
  "kernelspec": {
   "display_name": "Python 3",
   "language": "python",
   "name": "python3"
  },
  "language_info": {
   "codemirror_mode": {
    "name": "ipython",
    "version": 3
   },
   "file_extension": ".py",
   "mimetype": "text/x-python",
   "name": "python",
   "nbconvert_exporter": "python",
   "pygments_lexer": "ipython3",
   "version": "3.11.1"
  }
 },
 "nbformat": 4,
 "nbformat_minor": 2
}
